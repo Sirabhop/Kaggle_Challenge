{
  "nbformat": 4,
  "nbformat_minor": 0,
  "metadata": {
    "colab": {
      "name": "Challenge#1_Titanic",
      "provenance": [],
      "mount_file_id": "1fBetixd5Ip07TkCJRkTcedsx9COW2Kxn",
      "authorship_tag": "ABX9TyMWYqmYDsHb0O1HWyuAUt0G",
      "include_colab_link": true
    },
    "kernelspec": {
      "name": "python3",
      "display_name": "Python 3"
    }
  },
  "cells": [
    {
      "cell_type": "markdown",
      "metadata": {
        "id": "view-in-github",
        "colab_type": "text"
      },
      "source": [
        "<a href=\"https://colab.research.google.com/github/Sirabhop/Kaggle_Challenge/blob/master/Challenge_1_Titanic.ipynb\" target=\"_parent\"><img src=\"https://colab.research.google.com/assets/colab-badge.svg\" alt=\"Open In Colab\"/></a>"
      ]
    },
    {
      "cell_type": "code",
      "metadata": {
        "id": "7vslVLKCO3l5",
        "colab_type": "code",
        "colab": {}
      },
      "source": [
        "import numpy as np\n",
        "import pandas as pd\n",
        "import matplotlib.pyplot as plt\n",
        "from sklearn.svm import SVC\n",
        "import seaborn as sns\n",
        "\n",
        "from pandas.api.types import CategoricalDtype\n",
        "from sklearn.preprocessing import OneHotEncoder\n",
        "from sklearn.model_selection import train_test_split\n",
        "\n",
        "\n",
        "import os"
      ],
      "execution_count": 134,
      "outputs": []
    },
    {
      "cell_type": "code",
      "metadata": {
        "id": "O57G4t79PADH",
        "colab_type": "code",
        "colab": {}
      },
      "source": [
        "os.chdir(\"/content/drive/My Drive/My Project/Kaggle/Challenge#1_Titanic\")"
      ],
      "execution_count": 116,
      "outputs": []
    },
    {
      "cell_type": "code",
      "metadata": {
        "id": "yZ4wPaZBMNN_",
        "colab_type": "code",
        "colab": {
          "base_uri": "https://localhost:8080/",
          "height": 204
        },
        "outputId": "df91af4d-0a40-4ac7-fb04-4897ae654f2a"
      },
      "source": [
        "df = pd.read_csv('train.csv')\n",
        "test = pd.read_csv('test.csv')\n",
        "df.head()"
      ],
      "execution_count": 220,
      "outputs": [
        {
          "output_type": "execute_result",
          "data": {
            "text/html": [
              "<div>\n",
              "<style scoped>\n",
              "    .dataframe tbody tr th:only-of-type {\n",
              "        vertical-align: middle;\n",
              "    }\n",
              "\n",
              "    .dataframe tbody tr th {\n",
              "        vertical-align: top;\n",
              "    }\n",
              "\n",
              "    .dataframe thead th {\n",
              "        text-align: right;\n",
              "    }\n",
              "</style>\n",
              "<table border=\"1\" class=\"dataframe\">\n",
              "  <thead>\n",
              "    <tr style=\"text-align: right;\">\n",
              "      <th></th>\n",
              "      <th>PassengerId</th>\n",
              "      <th>Survived</th>\n",
              "      <th>Pclass</th>\n",
              "      <th>Name</th>\n",
              "      <th>Sex</th>\n",
              "      <th>Age</th>\n",
              "      <th>SibSp</th>\n",
              "      <th>Parch</th>\n",
              "      <th>Ticket</th>\n",
              "      <th>Fare</th>\n",
              "      <th>Cabin</th>\n",
              "      <th>Embarked</th>\n",
              "    </tr>\n",
              "  </thead>\n",
              "  <tbody>\n",
              "    <tr>\n",
              "      <th>0</th>\n",
              "      <td>1</td>\n",
              "      <td>0</td>\n",
              "      <td>3</td>\n",
              "      <td>Braund, Mr. Owen Harris</td>\n",
              "      <td>male</td>\n",
              "      <td>22.0</td>\n",
              "      <td>1</td>\n",
              "      <td>0</td>\n",
              "      <td>A/5 21171</td>\n",
              "      <td>7.2500</td>\n",
              "      <td>NaN</td>\n",
              "      <td>S</td>\n",
              "    </tr>\n",
              "    <tr>\n",
              "      <th>1</th>\n",
              "      <td>2</td>\n",
              "      <td>1</td>\n",
              "      <td>1</td>\n",
              "      <td>Cumings, Mrs. John Bradley (Florence Briggs Th...</td>\n",
              "      <td>female</td>\n",
              "      <td>38.0</td>\n",
              "      <td>1</td>\n",
              "      <td>0</td>\n",
              "      <td>PC 17599</td>\n",
              "      <td>71.2833</td>\n",
              "      <td>C85</td>\n",
              "      <td>C</td>\n",
              "    </tr>\n",
              "    <tr>\n",
              "      <th>2</th>\n",
              "      <td>3</td>\n",
              "      <td>1</td>\n",
              "      <td>3</td>\n",
              "      <td>Heikkinen, Miss. Laina</td>\n",
              "      <td>female</td>\n",
              "      <td>26.0</td>\n",
              "      <td>0</td>\n",
              "      <td>0</td>\n",
              "      <td>STON/O2. 3101282</td>\n",
              "      <td>7.9250</td>\n",
              "      <td>NaN</td>\n",
              "      <td>S</td>\n",
              "    </tr>\n",
              "    <tr>\n",
              "      <th>3</th>\n",
              "      <td>4</td>\n",
              "      <td>1</td>\n",
              "      <td>1</td>\n",
              "      <td>Futrelle, Mrs. Jacques Heath (Lily May Peel)</td>\n",
              "      <td>female</td>\n",
              "      <td>35.0</td>\n",
              "      <td>1</td>\n",
              "      <td>0</td>\n",
              "      <td>113803</td>\n",
              "      <td>53.1000</td>\n",
              "      <td>C123</td>\n",
              "      <td>S</td>\n",
              "    </tr>\n",
              "    <tr>\n",
              "      <th>4</th>\n",
              "      <td>5</td>\n",
              "      <td>0</td>\n",
              "      <td>3</td>\n",
              "      <td>Allen, Mr. William Henry</td>\n",
              "      <td>male</td>\n",
              "      <td>35.0</td>\n",
              "      <td>0</td>\n",
              "      <td>0</td>\n",
              "      <td>373450</td>\n",
              "      <td>8.0500</td>\n",
              "      <td>NaN</td>\n",
              "      <td>S</td>\n",
              "    </tr>\n",
              "  </tbody>\n",
              "</table>\n",
              "</div>"
            ],
            "text/plain": [
              "   PassengerId  Survived  Pclass  ...     Fare Cabin  Embarked\n",
              "0            1         0       3  ...   7.2500   NaN         S\n",
              "1            2         1       1  ...  71.2833   C85         C\n",
              "2            3         1       3  ...   7.9250   NaN         S\n",
              "3            4         1       1  ...  53.1000  C123         S\n",
              "4            5         0       3  ...   8.0500   NaN         S\n",
              "\n",
              "[5 rows x 12 columns]"
            ]
          },
          "metadata": {
            "tags": []
          },
          "execution_count": 220
        }
      ]
    },
    {
      "cell_type": "code",
      "metadata": {
        "id": "wOXP5hA0Q7Wr",
        "colab_type": "code",
        "colab": {
          "base_uri": "https://localhost:8080/",
          "height": 306
        },
        "outputId": "e097161b-cbde-4d6d-d757-ec214b617649"
      },
      "source": [
        "df.info()"
      ],
      "execution_count": 124,
      "outputs": [
        {
          "output_type": "stream",
          "text": [
            "<class 'pandas.core.frame.DataFrame'>\n",
            "RangeIndex: 889 entries, 0 to 888\n",
            "Data columns (total 10 columns):\n",
            " #   Column       Non-Null Count  Dtype   \n",
            "---  ------       --------------  -----   \n",
            " 0   PassengerId  889 non-null    object  \n",
            " 1   Survived     889 non-null    category\n",
            " 2   Pclass       889 non-null    category\n",
            " 3   Sex          889 non-null    category\n",
            " 4   Age          889 non-null    float64 \n",
            " 5   SibSp        889 non-null    int64   \n",
            " 6   Parch        889 non-null    int64   \n",
            " 7   Ticket       889 non-null    object  \n",
            " 8   Fare         889 non-null    float64 \n",
            " 9   Embarked     889 non-null    category\n",
            "dtypes: category(4), float64(2), int64(2), object(2)\n",
            "memory usage: 45.7+ KB\n"
          ],
          "name": "stdout"
        }
      ]
    },
    {
      "cell_type": "code",
      "metadata": {
        "id": "pHk1JDDDIRu4",
        "colab_type": "code",
        "colab": {}
      },
      "source": [
        "df['PassengerId'] = df['PassengerId'].astype('object')\n",
        "df['Survived'] = df['Survived'].astype('category') #0 is no, 1 is yes\n",
        "df['Pclass'] = df['Pclass'].astype('category')\n",
        "df['Pclass'].cat.reorder_categories([1, 2, 3], ordered = True)\n",
        "df['Sex'] = df['Sex'].astype('category')\n",
        "df['Embarked'] = df['Embarked'].astype('category')"
      ],
      "execution_count": 208,
      "outputs": []
    },
    {
      "cell_type": "code",
      "metadata": {
        "id": "HHNU1nltShG7",
        "colab_type": "code",
        "colab": {}
      },
      "source": [
        "df.drop(['Name', 'Cabin'], axis = 1, inplace = True)\n",
        "df.dropna(subset = ['Embarked'], axis = 0, how = 'any', inplace = True)\n",
        "df['Age'].fillna(df['Age'].mean(), inplace = True)\n",
        "\n",
        "df.reset_index(inplace = True, drop = True)"
      ],
      "execution_count": 209,
      "outputs": []
    },
    {
      "cell_type": "markdown",
      "metadata": {
        "id": "kSmrSYjhPCWL",
        "colab_type": "text"
      },
      "source": [
        "The question is who gonna survive from shipwreak? from those features I can draw 3 assumption\n",
        "\n",
        "\n",
        "1. **The number of sibling, children, & parent** are effected the chance of survive because the titanic passenger would do ever it take to save their relatives.\n",
        "2. **The room** where passenger stayed affected too, the chance of survival may depend on how easy for them to acquire the emergency boat.\n",
        "3. **The status of their ticket**, one who are VIP guest on board may thought the crew cabin would rushed out to help them instead of economics passengers.\n",
        "\n",
        "\n",
        "\n"
      ]
    },
    {
      "cell_type": "code",
      "metadata": {
        "id": "F96lFx9EBQe6",
        "colab_type": "code",
        "colab": {
          "base_uri": "https://localhost:8080/",
          "height": 279
        },
        "outputId": "3dba3773-6d23-4196-ddc6-8bedf90a9757"
      },
      "source": [
        "ax = sns.barplot(x = 'Pclass', y = 'Survived', data = df)\n",
        "a = ax.get_xticks().tolist()\n",
        "a = ['First Class', 'Second Class', 'Third Class']\n",
        "ax.set_xticklabels(a)\n",
        "ax.set(xlabel = 'Passenger Class', ylabel = '%Survived')\n",
        "\n",
        "plt.show()"
      ],
      "execution_count": 189,
      "outputs": [
        {
          "output_type": "display_data",
          "data": {
            "image/png": "[encoded data removed]",
            "text/plain": [
              "<Figure size 432x288 with 1 Axes>"
            ]
          },
          "metadata": {
            "tags": [],
            "needs_background": "light"
          }
        }
      ]
    },
    {
      "cell_type": "code",
      "metadata": {
        "id": "w7UIktjqR14H",
        "colab_type": "code",
        "colab": {
          "base_uri": "https://localhost:8080/",
          "height": 279
        },
        "outputId": "02fb0908-9fd7-4dc3-8244-86fc65a56472"
      },
      "source": [
        "ax = sns.barplot(x = df['Survived'], y = df[df['Pclass'] == 1]['Fare'])"
      ],
      "execution_count": 230,
      "outputs": [
        {
          "output_type": "display_data",
          "data": {
            "image/png": "[encoded data removed]",
            "text/plain": [
              "<Figure size 432x288 with 1 Axes>"
            ]
          },
          "metadata": {
            "tags": [],
            "needs_background": "light"
          }
        }
      ]
    },
    {
      "cell_type": "code",
      "metadata": {
        "id": "AUJlenl5SYcb",
        "colab_type": "code",
        "colab": {
          "base_uri": "https://localhost:8080/",
          "height": 297
        },
        "outputId": "18f61660-327c-442d-d732-12b6872c913c"
      },
      "source": [
        "sns.distplot(df['Fare'])"
      ],
      "execution_count": 235,
      "outputs": [
        {
          "output_type": "execute_result",
          "data": {
            "text/plain": [
              "<matplotlib.axes._subplots.AxesSubplot at 0x7fc72b917d68>"
            ]
          },
          "metadata": {
            "tags": []
          },
          "execution_count": 235
        },
        {
          "output_type": "display_data",
          "data": {
            "image/png": "[encoded data removed]",
            "text/plain": [
              "<Figure size 432x288 with 1 Axes>"
            ]
          },
          "metadata": {
            "tags": [],
            "needs_background": "light"
          }
        }
      ]
    },
    {
      "cell_type": "code",
      "metadata": {
        "id": "CaidgqpXGl8W",
        "colab_type": "code",
        "colab": {
          "base_uri": "https://localhost:8080/",
          "height": 279
        },
        "outputId": "77b4abc0-201a-4401-9e5c-e6d3e2489ea2"
      },
      "source": [
        "ax = sns.barplot(x = 'Embarked', y = 'Survived', data = df)\n",
        "a = ax.get_xticks().tolist()\n",
        "a = ['Southampton', 'Cherbourg', 'Queenstown']\n",
        "ax.set_xticklabels(a)\n",
        "ax.set(xlabel = 'Embarkation', ylabel = '%Survived')\n",
        "\n",
        "plt.show()"
      ],
      "execution_count": 192,
      "outputs": [
        {
          "output_type": "display_data",
          "data": {
            "image/png": "[encoded data removed]",
            "text/plain": [
              "<Figure size 432x288 with 1 Axes>"
            ]
          },
          "metadata": {
            "tags": [],
            "needs_background": "light"
          }
        }
      ]
    },
    {
      "cell_type": "code",
      "metadata": {
        "id": "Oe2_pfzmH4v6",
        "colab_type": "code",
        "colab": {
          "base_uri": "https://localhost:8080/",
          "height": 279
        },
        "outputId": "1e8d3a3c-0a8b-4ffe-9c40-2c5ac5fbfd7c"
      },
      "source": [
        "ax = sns.barplot(x = 'Sex', y = 'Survived', data = df)"
      ],
      "execution_count": 193,
      "outputs": [
        {
          "output_type": "display_data",
          "data": {
            "image/png": "[encoded data removed]",
            "text/plain": [
              "<Figure size 432x288 with 1 Axes>"
            ]
          },
          "metadata": {
            "tags": [],
            "needs_background": "light"
          }
        }
      ]
    },
    {
      "cell_type": "code",
      "metadata": {
        "id": "hJjxd_1UH_J9",
        "colab_type": "code",
        "colab": {
          "base_uri": "https://localhost:8080/",
          "height": 279
        },
        "outputId": "63446fed-ec71-4d15-b82a-2df8d0500d7b"
      },
      "source": [
        "ax = sns.barplot(x = 'Survived', y = 'Age', data = df)"
      ],
      "execution_count": 197,
      "outputs": [
        {
          "output_type": "display_data",
          "data": {
            "image/png": "[encoded data removed]",
            "text/plain": [
              "<Figure size 432x288 with 1 Axes>"
            ]
          },
          "metadata": {
            "tags": [],
            "needs_background": "light"
          }
        }
      ]
    },
    {
      "cell_type": "code",
      "metadata": {
        "id": "tv4BJqdy2w7j",
        "colab_type": "code",
        "colab": {}
      },
      "source": [
        "a = ax.get_xticks().tolist()\n",
        "a = ['First Class', 'Second Class', 'Third Class']\n",
        "ax.set_xticklabels(a)\n",
        "ax.set(xlabel = 'Passenger Class', ylabel = '%Survived')\n",
        "\n",
        "plt.show()X = df.iloc[:, [0,2,3,4,5,6,7,8,9]]\n",
        "y = df.iloc[:, 1]"
      ],
      "execution_count": 131,
      "outputs": []
    },
    {
      "cell_type": "code",
      "metadata": {
        "id": "w1MQuRC51McW",
        "colab_type": "code",
        "colab": {}
      },
      "source": [
        "X_train, X_test = train_test_split(X, test_size = 0.2, random_state = 0)\n",
        "y_train, y_test = train_test_split(y, test_size = 0.2, random_state = 0)"
      ],
      "execution_count": 132,
      "outputs": []
    },
    {
      "cell_type": "code",
      "metadata": {
        "id": "TfoLXiRy3Tdj",
        "colab_type": "code",
        "colab": {}
      },
      "source": [
        "classifier = SVC(kernel = 'rbf')\n",
        "classifier.fit(X_train, y_train)"
      ],
      "execution_count": null,
      "outputs": []
    }
  ]
}