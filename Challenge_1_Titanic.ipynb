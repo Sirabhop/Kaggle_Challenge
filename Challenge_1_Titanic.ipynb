{
  "nbformat": 4,
  "nbformat_minor": 0,
  "metadata": {
    "colab": {
      "name": "Challenge#1_Titanic",
      "provenance": [],
      "mount_file_id": "1fBetixd5Ip07TkCJRkTcedsx9COW2Kxn",
      "authorship_tag": "ABX9TyNd43qj75Ksr+WCMVLc1bVL",
      "include_colab_link": true
    },
    "kernelspec": {
      "name": "python3",
      "display_name": "Python 3"
    }
  },
  "cells": [
    {
      "cell_type": "markdown",
      "metadata": {
        "id": "view-in-github",
        "colab_type": "text"
      },
      "source": [
        "<a href=\"https://colab.research.google.com/github/Sirabhop/Kaggle_Challenges/blob/master/Challenge_1_Titanic.ipynb\" target=\"_parent\"><img src=\"https://colab.research.google.com/assets/colab-badge.svg\" alt=\"Open In Colab\"/></a>"
      ]
    },
    {
      "cell_type": "code",
      "metadata": {
        "id": "7vslVLKCO3l5",
        "colab_type": "code",
        "colab": {}
      },
      "source": [
        "import numpy as np\n",
        "import pandas as pd\n",
        "import matplotlib.pyplot as plt\n",
        "from sklearn.svm import SVC\n",
        "import seaborn as sns\n",
        "\n",
        "from pandas.api.types import CategoricalDtype\n",
        "from sklearn.preprocessing import OneHotEncoder\n",
        "from sklearn.model_selection import train_test_split\n",
        "\n",
        "import os"
      ],
      "execution_count": null,
      "outputs": []
    },
    {
      "cell_type": "code",
      "metadata": {
        "id": "O57G4t79PADH",
        "colab_type": "code",
        "colab": {}
      },
      "source": [
        "os.chdir(\"/content/drive/My Drive/My Project/Kaggle/Challenge#1_Titanic\")"
      ],
      "execution_count": 2,
      "outputs": []
    },
    {
      "cell_type": "code",
      "metadata": {
        "id": "yZ4wPaZBMNN_",
        "colab_type": "code",
        "colab": {}
      },
      "source": [
        "df = pd.read_csv('train.csv')\n",
        "test = pd.read_csv('test.csv')"
      ],
      "execution_count": 54,
      "outputs": []
    },
    {
      "cell_type": "code",
      "metadata": {
        "id": "wOXP5hA0Q7Wr",
        "colab_type": "code",
        "colab": {
          "base_uri": "https://localhost:8080/",
          "height": 277
        },
        "outputId": "f7f2724b-1360-43e4-fa83-c9d32851095b"
      },
      "source": [
        "df.info()"
      ],
      "execution_count": 61,
      "outputs": [
        {
          "output_type": "stream",
          "text": [
            "<class 'pandas.core.frame.DataFrame'>\n",
            "RangeIndex: 889 entries, 0 to 888\n",
            "Data columns (total 9 columns):\n",
            " #   Column       Non-Null Count  Dtype   \n",
            "---  ------       --------------  -----   \n",
            " 0   PassengerId  889 non-null    object  \n",
            " 1   Survived     889 non-null    category\n",
            " 2   Pclass       889 non-null    object  \n",
            " 3   Sex          889 non-null    category\n",
            " 4   Age          889 non-null    float64 \n",
            " 5   SibSp        889 non-null    int64   \n",
            " 6   Parch        889 non-null    int64   \n",
            " 7   Fare         889 non-null    float64 \n",
            " 8   Embarked     889 non-null    object  \n",
            "dtypes: category(2), float64(2), int64(2), object(3)\n",
            "memory usage: 50.7+ KB\n"
          ],
          "name": "stdout"
        }
      ]
    },
    {
      "cell_type": "code",
      "metadata": {
        "id": "pHk1JDDDIRu4",
        "colab_type": "code",
        "colab": {}
      },
      "source": [
        "df['PassengerId'] = df['PassengerId'].astype('object')\n",
        "df['Survived'] = df['Survived'].astype('category') #0 is no, 1 is yes\n",
        "df['Pclass'] = df['Pclass'].astype('category')\n",
        "df['Pclass'].cat.reorder_categories([1, 2, 3], ordered = True)\n",
        "df['Sex'] = df['Sex'].astype('category')\n",
        "df['Embarked'] = df['Embarked'].astype('category')"
      ],
      "execution_count": 56,
      "outputs": []
    },
    {
      "cell_type": "code",
      "metadata": {
        "id": "HHNU1nltShG7",
        "colab_type": "code",
        "colab": {}
      },
      "source": [
        "df.drop(['Name', 'Cabin', 'Ticket'], axis = 1, inplace = True)\n",
        "df.dropna(subset = ['Embarked'], axis = 0, how = 'any', inplace = True)\n",
        "df['Age'].fillna(df['Age'].mean(), inplace = True)\n",
        "\n",
        "df.reset_index(inplace = True, drop = True)"
      ],
      "execution_count": 57,
      "outputs": []
    },
    {
      "cell_type": "code",
      "metadata": {
        "id": "Zk9yN83n1Y9u",
        "colab_type": "code",
        "colab": {}
      },
      "source": [
        "df['Embarked'].replace({'S': 'Southampton', 'C': 'Cherbourg', 'Q': 'Queenstown'}, inplace = True)\n",
        "df['Pclass'].replace({1: 'First class', 2: 'Second class', 3: 'Third class'}, inplace = True)"
      ],
      "execution_count": 58,
      "outputs": []
    },
    {
      "cell_type": "markdown",
      "metadata": {
        "id": "kSmrSYjhPCWL",
        "colab_type": "text"
      },
      "source": [
        "The question is who gonna survive from shipwreak? from those features I can draw 3 assumption\n",
        "\n",
        "\n",
        "1. **The number of sibling, children, & parent** are effected the chance of survive because the titanic passenger would do ever it take to save their relatives.\n",
        "2. **The room** where passenger stayed affected too, the chance of survival may depend on how easy for them to acquire the emergency boat.\n",
        "3. **The status of their ticket**, one who are VIP guest on board may thought the crew cabin would rushed out to help them instead of economics passengers.\n",
        "4. **Embarkation** may determined their belongings which increase time to escape\n",
        "\n",
        "\n",
        "\n"
      ]
    },
    {
      "cell_type": "markdown",
      "metadata": {
        "id": "BIuQsAv3Or-a",
        "colab_type": "text"
      },
      "source": [
        "![Sea lanes of Titanic](https://drive.google.com/uc?export=view&id=1DLHzbthFAdZboIGqbsKPm5utA-PB8MSL)\n",
        "\n",
        "the route start from Southampton (UK) > Cherbourg (FR) > Queenstown (IR)\n"
      ]
    },
    {
      "cell_type": "code",
      "metadata": {
        "id": "E1Fj-hu9TLhT",
        "colab_type": "code",
        "colab": {
          "base_uri": "https://localhost:8080/",
          "height": 391
        },
        "outputId": "1de1c189-1e4e-4c0b-f61f-c33f7286bb24"
      },
      "source": [
        "df"
      ],
      "execution_count": 64,
      "outputs": [
        {
          "output_type": "execute_result",
          "data": {
            "text/html": [
              "<div>\n",
              "<style scoped>\n",
              "    .dataframe tbody tr th:only-of-type {\n",
              "        vertical-align: middle;\n",
              "    }\n",
              "\n",
              "    .dataframe tbody tr th {\n",
              "        vertical-align: top;\n",
              "    }\n",
              "\n",
              "    .dataframe thead th {\n",
              "        text-align: right;\n",
              "    }\n",
              "</style>\n",
              "<table border=\"1\" class=\"dataframe\">\n",
              "  <thead>\n",
              "    <tr style=\"text-align: right;\">\n",
              "      <th></th>\n",
              "      <th>PassengerId</th>\n",
              "      <th>Survived</th>\n",
              "      <th>Pclass</th>\n",
              "      <th>Sex</th>\n",
              "      <th>Age</th>\n",
              "      <th>SibSp</th>\n",
              "      <th>Parch</th>\n",
              "      <th>Fare</th>\n",
              "      <th>Embarked</th>\n",
              "    </tr>\n",
              "  </thead>\n",
              "  <tbody>\n",
              "    <tr>\n",
              "      <th>0</th>\n",
              "      <td>1</td>\n",
              "      <td>0</td>\n",
              "      <td>Third class</td>\n",
              "      <td>male</td>\n",
              "      <td>22.000000</td>\n",
              "      <td>1</td>\n",
              "      <td>0</td>\n",
              "      <td>7.2500</td>\n",
              "      <td>Southampton</td>\n",
              "    </tr>\n",
              "    <tr>\n",
              "      <th>1</th>\n",
              "      <td>2</td>\n",
              "      <td>1</td>\n",
              "      <td>First class</td>\n",
              "      <td>female</td>\n",
              "      <td>38.000000</td>\n",
              "      <td>1</td>\n",
              "      <td>0</td>\n",
              "      <td>71.2833</td>\n",
              "      <td>Cherbourg</td>\n",
              "    </tr>\n",
              "    <tr>\n",
              "      <th>2</th>\n",
              "      <td>3</td>\n",
              "      <td>1</td>\n",
              "      <td>Third class</td>\n",
              "      <td>female</td>\n",
              "      <td>26.000000</td>\n",
              "      <td>0</td>\n",
              "      <td>0</td>\n",
              "      <td>7.9250</td>\n",
              "      <td>Southampton</td>\n",
              "    </tr>\n",
              "    <tr>\n",
              "      <th>3</th>\n",
              "      <td>4</td>\n",
              "      <td>1</td>\n",
              "      <td>First class</td>\n",
              "      <td>female</td>\n",
              "      <td>35.000000</td>\n",
              "      <td>1</td>\n",
              "      <td>0</td>\n",
              "      <td>53.1000</td>\n",
              "      <td>Southampton</td>\n",
              "    </tr>\n",
              "    <tr>\n",
              "      <th>4</th>\n",
              "      <td>5</td>\n",
              "      <td>0</td>\n",
              "      <td>Third class</td>\n",
              "      <td>male</td>\n",
              "      <td>35.000000</td>\n",
              "      <td>0</td>\n",
              "      <td>0</td>\n",
              "      <td>8.0500</td>\n",
              "      <td>Southampton</td>\n",
              "    </tr>\n",
              "    <tr>\n",
              "      <th>...</th>\n",
              "      <td>...</td>\n",
              "      <td>...</td>\n",
              "      <td>...</td>\n",
              "      <td>...</td>\n",
              "      <td>...</td>\n",
              "      <td>...</td>\n",
              "      <td>...</td>\n",
              "      <td>...</td>\n",
              "      <td>...</td>\n",
              "    </tr>\n",
              "    <tr>\n",
              "      <th>884</th>\n",
              "      <td>887</td>\n",
              "      <td>0</td>\n",
              "      <td>Second class</td>\n",
              "      <td>male</td>\n",
              "      <td>27.000000</td>\n",
              "      <td>0</td>\n",
              "      <td>0</td>\n",
              "      <td>13.0000</td>\n",
              "      <td>Southampton</td>\n",
              "    </tr>\n",
              "    <tr>\n",
              "      <th>885</th>\n",
              "      <td>888</td>\n",
              "      <td>1</td>\n",
              "      <td>First class</td>\n",
              "      <td>female</td>\n",
              "      <td>19.000000</td>\n",
              "      <td>0</td>\n",
              "      <td>0</td>\n",
              "      <td>30.0000</td>\n",
              "      <td>Southampton</td>\n",
              "    </tr>\n",
              "    <tr>\n",
              "      <th>886</th>\n",
              "      <td>889</td>\n",
              "      <td>0</td>\n",
              "      <td>Third class</td>\n",
              "      <td>female</td>\n",
              "      <td>29.642093</td>\n",
              "      <td>1</td>\n",
              "      <td>2</td>\n",
              "      <td>23.4500</td>\n",
              "      <td>Southampton</td>\n",
              "    </tr>\n",
              "    <tr>\n",
              "      <th>887</th>\n",
              "      <td>890</td>\n",
              "      <td>1</td>\n",
              "      <td>First class</td>\n",
              "      <td>male</td>\n",
              "      <td>26.000000</td>\n",
              "      <td>0</td>\n",
              "      <td>0</td>\n",
              "      <td>30.0000</td>\n",
              "      <td>Cherbourg</td>\n",
              "    </tr>\n",
              "    <tr>\n",
              "      <th>888</th>\n",
              "      <td>891</td>\n",
              "      <td>0</td>\n",
              "      <td>Third class</td>\n",
              "      <td>male</td>\n",
              "      <td>32.000000</td>\n",
              "      <td>0</td>\n",
              "      <td>0</td>\n",
              "      <td>7.7500</td>\n",
              "      <td>Queenstown</td>\n",
              "    </tr>\n",
              "  </tbody>\n",
              "</table>\n",
              "<p>889 rows × 9 columns</p>\n",
              "</div>"
            ],
            "text/plain": [
              "    PassengerId Survived        Pclass  ... Parch     Fare     Embarked\n",
              "0             1        0   Third class  ...     0   7.2500  Southampton\n",
              "1             2        1   First class  ...     0  71.2833    Cherbourg\n",
              "2             3        1   Third class  ...     0   7.9250  Southampton\n",
              "3             4        1   First class  ...     0  53.1000  Southampton\n",
              "4             5        0   Third class  ...     0   8.0500  Southampton\n",
              "..          ...      ...           ...  ...   ...      ...          ...\n",
              "884         887        0  Second class  ...     0  13.0000  Southampton\n",
              "885         888        1   First class  ...     0  30.0000  Southampton\n",
              "886         889        0   Third class  ...     2  23.4500  Southampton\n",
              "887         890        1   First class  ...     0  30.0000    Cherbourg\n",
              "888         891        0   Third class  ...     0   7.7500   Queenstown\n",
              "\n",
              "[889 rows x 9 columns]"
            ]
          },
          "metadata": {
            "tags": []
          },
          "execution_count": 64
        }
      ]
    },
    {
      "cell_type": "code",
      "metadata": {
        "id": "F96lFx9EBQe6",
        "colab_type": "code",
        "colab": {
          "base_uri": "https://localhost:8080/",
          "height": 279
        },
        "outputId": "3dba3773-6d23-4196-ddc6-8bedf90a9757"
      },
      "source": [
        "ax = sns.barplot(x = 'Pclass', y = 'Survived', data = df)\n",
        "a = ax.get_xticks().tolist()\n",
        "a = ['First Class', 'Second Class', 'Third Class']\n",
        "ax.set_xticklabels(a)\n",
        "ax.set(xlabel = 'Passenger Class', ylabel = '%Survived')\n",
        "\n",
        "plt.show()"
      ],
      "execution_count": null,
      "outputs": [
        {
          "output_type": "display_data",
          "data": {
            "image/png": "[encoded data removed]",
            "text/plain": [
              "<Figure size 432x288 with 1 Axes>"
            ]
          },
          "metadata": {
            "tags": [],
            "needs_background": "light"
          }
        }
      ]
    },
    {
      "cell_type": "code",
      "metadata": {
        "id": "qYATh_Dazy4k",
        "colab_type": "code",
        "colab": {
          "base_uri": "https://localhost:8080/",
          "height": 282
        },
        "outputId": "9bb43e77-7d8e-40aa-8bef-d20b6afbe599"
      },
      "source": [
        "ax = sns.barplot(x = 'Pclass', y = 'Fare', data = df)\n",
        "a = ax.get_xticks().tolist()\n",
        "a = ['First Class', 'Second Class', 'Third Class']\n",
        "ax.set_xticklabels(a)\n",
        "ax.set(xlabel = 'Passenger Class', ylabel = 'Fare ($)')\n",
        "\n",
        "plt.show()"
      ],
      "execution_count": 9,
      "outputs": [
        {
          "output_type": "display_data",
          "data": {
            "image/png": "[encoded data removed]",
            "text/plain": [
              "<Figure size 432x288 with 1 Axes>"
            ]
          },
          "metadata": {
            "tags": [],
            "needs_background": "light"
          }
        }
      ]
    },
    {
      "cell_type": "code",
      "metadata": {
        "id": "w7UIktjqR14H",
        "colab_type": "code",
        "colab": {
          "base_uri": "https://localhost:8080/",
          "height": 279
        },
        "outputId": "02fb0908-9fd7-4dc3-8244-86fc65a56472"
      },
      "source": [
        "ax = sns.barplot(x = df['Survived'], y = df[df['Pclass'] == 1]['Fare'])"
      ],
      "execution_count": null,
      "outputs": [
        {
          "output_type": "display_data",
          "data": {
            "image/png": "[encoded data removed]",
            "text/plain": [
              "<Figure size 432x288 with 1 Axes>"
            ]
          },
          "metadata": {
            "tags": [],
            "needs_background": "light"
          }
        }
      ]
    },
    {
      "cell_type": "code",
      "metadata": {
        "id": "CaidgqpXGl8W",
        "colab_type": "code",
        "colab": {
          "base_uri": "https://localhost:8080/",
          "height": 279
        },
        "outputId": "77b4abc0-201a-4401-9e5c-e6d3e2489ea2"
      },
      "source": [
        "ax = sns.barplot(x = 'Embarked', y = 'Survived', data = df)\n",
        "a = ax.get_xticks().tolist()\n",
        "a = ['Southampton', 'Cherbourg', 'Queenstown']\n",
        "ax.set_xticklabels(a)\n",
        "ax.set(xlabel = 'Embarkation', ylabel = '%Survived')\n",
        "\n",
        "plt.show()"
      ],
      "execution_count": null,
      "outputs": [
        {
          "output_type": "display_data",
          "data": {
            "image/png": "[encoded data removed]",
            "text/plain": [
              "<Figure size 432x288 with 1 Axes>"
            ]
          },
          "metadata": {
            "tags": [],
            "needs_background": "light"
          }
        }
      ]
    },
    {
      "cell_type": "code",
      "metadata": {
        "id": "Oe2_pfzmH4v6",
        "colab_type": "code",
        "colab": {
          "base_uri": "https://localhost:8080/",
          "height": 279
        },
        "outputId": "1e8d3a3c-0a8b-4ffe-9c40-2c5ac5fbfd7c"
      },
      "source": [
        "ax = sns.barplot(x = 'Sex', y = 'Survived', data = df)"
      ],
      "execution_count": null,
      "outputs": [
        {
          "output_type": "display_data",
          "data": {
            "image/png": "[encoded data removed]",
            "text/plain": [
              "<Figure size 432x288 with 1 Axes>"
            ]
          },
          "metadata": {
            "tags": [],
            "needs_background": "light"
          }
        }
      ]
    },
    {
      "cell_type": "code",
      "metadata": {
        "id": "hJjxd_1UH_J9",
        "colab_type": "code",
        "colab": {
          "base_uri": "https://localhost:8080/",
          "height": 279
        },
        "outputId": "63446fed-ec71-4d15-b82a-2df8d0500d7b"
      },
      "source": [
        "ax = sns.barplot(x = 'Survived', y = 'Age', data = df)"
      ],
      "execution_count": null,
      "outputs": [
        {
          "output_type": "display_data",
          "data": {
            "image/png": "[encoded data removed]",
            "text/plain": [
              "<Figure size 432x288 with 1 Axes>"
            ]
          },
          "metadata": {
            "tags": [],
            "needs_background": "light"
          }
        }
      ]
    },
    {
      "cell_type": "code",
      "metadata": {
        "id": "w1MQuRC51McW",
        "colab_type": "code",
        "colab": {}
      },
      "source": [
        "X_train, X_test = train_test_split(X, test_size = 0.2, random_state = 0)\n",
        "y_train, y_test = train_test_split(y, test_size = 0.2, random_state = 0)"
      ],
      "execution_count": null,
      "outputs": []
    },
    {
      "cell_type": "code",
      "metadata": {
        "id": "TfoLXiRy3Tdj",
        "colab_type": "code",
        "colab": {}
      },
      "source": [
        "classifier = SVC(kernel = 'rbf')\n",
        "classifier.fit(X_train, y_train)"
      ],
      "execution_count": null,
      "outputs": []
    }
  ]
}